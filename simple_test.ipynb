{
 "cells": [
  {
   "cell_type": "code",
   "execution_count": 6,
   "metadata": {},
   "outputs": [
    {
     "name": "stdout",
     "output_type": "stream",
     "text": [
      "1m\n",
      "{'Recommend.Other': 0, 'Recommend.All': -0.3333333333333333, 'Recommend.MA': -0.6666666666666666, 'RSI': 31.426195004125304, 'RSI[1]': 31.426195004125304, 'Stoch.K': 28.43973119202296, 'Stoch.D': 26.324318908414522, 'Stoch.K[1]': 30.263604985953886, 'Stoch.D[1]': 32.42755963037022, 'CCI20': -144.88602458321674, 'CCI20[1]': -180.64802485267478, 'ADX': 17.92007347613964, 'ADX+DI': 7.849688505759646, 'ADX-DI': 14.970540989084993, 'ADX+DI[1]': 7.849688505759646, 'ADX-DI[1]': 14.970540989084993, 'AO': -0.00037411764705819195, 'AO[1]': -0.00029447058823484085, 'Mom': -0.0006599999999998829, 'Mom[1]': -0.0006599999999998829, 'MACD.macd': -0.0001266293816528652, 'MACD.signal': -3.6356941676616366e-05, 'Rec.Stoch.RSI': 0, 'Stoch.RSI.K': 0.7123066974750797, 'Rec.WR': 0, 'W.R': -72.47706422018742, 'Rec.BBPower': 0, 'BBPower': -0.00066593312086205, 'Rec.UO': 0, 'UO': 66.58154121476841, 'close': 1.04966, 'EMA5': 1.0497770551217567, 'SMA5': 1.0497440000000007, 'EMA10': 1.049932081115927, 'SMA10': 1.0500079999999976, 'EMA20': 1.0500726396584474, 'SMA20': 1.0502250000000026, 'EMA30': 1.050110031000734, 'SMA30': 1.0502270000000002, 'EMA50': 1.0500940629345654, 'SMA50': 1.0501433999999983, 'EMA100': 1.0499676737426458, 'SMA100': 1.0499605999999972, 'EMA200': 1.0499038378587295, 'SMA200': 1.0495512999999965, 'Rec.Ichimoku': 0, 'Ichimoku.BLine': 1.050095, 'Rec.VWMA': -1, 'VWMA': 1.0502720594942987, 'Rec.HullMA9': 1, 'HullMA9': 1.0495551111111112, 'Pivot.M.Classic.S3': 1.03515, 'Pivot.M.Classic.S2': 1.04223, 'Pivot.M.Classic.S1': 1.0462, 'Pivot.M.Classic.Middle': 1.04931, 'Pivot.M.Classic.R1': 1.05328, 'Pivot.M.Classic.R2': 1.05639, 'Pivot.M.Classic.R3': 1.06347, 'Pivot.M.Fibonacci.S3': 1.04223, 'Pivot.M.Fibonacci.S2': 1.04493456, 'Pivot.M.Fibonacci.S1': 1.04660544, 'Pivot.M.Fibonacci.Middle': 1.04931, 'Pivot.M.Fibonacci.R1': 1.05201456, 'Pivot.M.Fibonacci.R2': 1.05368544, 'Pivot.M.Fibonacci.R3': 1.05639, 'Pivot.M.Camarilla.S3': 1.0482230000000001, 'Pivot.M.Camarilla.S2': 1.048872, 'Pivot.M.Camarilla.S1': 1.0495210000000001, 'Pivot.M.Camarilla.Middle': 1.04931, 'Pivot.M.Camarilla.R1': 1.050819, 'Pivot.M.Camarilla.R2': 1.051468, 'Pivot.M.Camarilla.R3': 1.052117, 'Pivot.M.Woodie.S3': 1.03904, 'Pivot.M.Woodie.S2': 1.04219, 'Pivot.M.Woodie.S1': 1.04612, 'Pivot.M.Woodie.Middle': 1.04927, 'Pivot.M.Woodie.R1': 1.0532, 'Pivot.M.Woodie.R2': 1.05635, 'Pivot.M.Woodie.R3': 1.06028, 'Pivot.M.Demark.S1': 1.0477550000000002, 'Pivot.M.Demark.Middle': 1.0500875, 'Pivot.M.Demark.R1': 1.0548350000000002, 'open': 1.04966, 'P.SAR': 1.049999842752, 'BB.lower': 1.0496005482708053, 'BB.upper': 1.0508494517292, 'AO[2]': -0.00019311764705798318, 'volume': 1, 'change': 0, 'low': 1.04966, 'high': 1.04966}\n"
     ]
    }
   ],
   "source": [
    "from tradingview_ta import TA_Handler, Interval, Exchange\n",
    "column_value = getattr(Interval, 'INTERVAL_1_MINUTE')\n",
    "print(column_value)\n",
    "\n",
    "\n",
    "_screener = 'forex'\n",
    "_exchange = \"FX_IDC\"\n",
    "\n",
    "_handler = TA_Handler(\n",
    "    symbol=\"EURUSD\",\n",
    "    screener=_screener,\n",
    "     exchange=_exchange,\n",
    "    interval=column_value\n",
    "    )\n",
    "\n",
    "# result = _handler.get_analysis().summary\n",
    "result= _handler.get_indicators()\n",
    "\n",
    "print(result)"
   ]
  },
  {
   "cell_type": "code",
   "execution_count": null,
   "metadata": {},
   "outputs": [],
   "source": []
  }
 ],
 "metadata": {
  "kernelspec": {
   "display_name": "Python 3",
   "language": "python",
   "name": "python3"
  },
  "language_info": {
   "codemirror_mode": {
    "name": "ipython",
    "version": 3
   },
   "file_extension": ".py",
   "mimetype": "text/x-python",
   "name": "python",
   "nbconvert_exporter": "python",
   "pygments_lexer": "ipython3",
   "version": "3.12.3"
  }
 },
 "nbformat": 4,
 "nbformat_minor": 2
}
